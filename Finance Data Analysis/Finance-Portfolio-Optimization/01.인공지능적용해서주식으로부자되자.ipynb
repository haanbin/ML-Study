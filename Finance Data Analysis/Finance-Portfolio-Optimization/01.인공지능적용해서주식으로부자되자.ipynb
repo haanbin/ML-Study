{
 "cells": [
  {
   "cell_type": "markdown",
   "metadata": {},
   "source": [
    "# 주식을 하는 인공지능?  - 1편 "
   ]
  },
  {
   "cell_type": "markdown",
   "metadata": {},
   "source": [
    "많은 사람들이 주식에 열광을 합니다. \n",
    "\n",
    "\n",
    "검색 페이지에 주식이라고만 쳐봐도 엄청 많은 검색 결과가 나옵니다. 교육, 책, 정보, 주식으로 부자가 되는 방법 등 여러 컨텐츠가 나오죠. \n",
    "<img src=\"https://www.dropbox.com/s/b2a9w9t14ls6ohw/Screenshot%202019-09-30%2022.00.10.png?raw=1\">\n",
    "\n",
    "먼저, \n",
    "\n",
    "\"주식\"이란 무엇일까요? 어떠한 유래로 생겨나게 되었을까요? \n",
    "\n",
    "주식을 하는 것이란 주식회사에투자를 하는 것이라고 볼수 있습니다.\n",
    "주식회사의 주식을 돈을주고 사서 주주의 권리를 보유하는 것이죠. \n",
    "\n"
   ]
  },
  {
   "cell_type": "markdown",
   "metadata": {},
   "source": [
    "\"그렇다면 최초의 주식회사는 어떤 회사일까요?\" \n",
    "최초의 주식회사는 네덜란드의 동인도 회사 입니다. 영어로는 Dutch East India Company로 부르다고 합니다. \n",
    "\n",
    "이 동인도회사는 네덜란드가 스페인에서 독립했을때 생겼습니다.\n",
    "\n",
    "이때 네덜란드가 리스본 시장에서 향신료를 구입하는 것을 금지하였습니다. 스페인 리스본은 당시 향신료 시장중 가장 큰 시장중 하나였기 때문에, 네덜란드는 향신료 수입을 동남아에서 해와야만했죠. \n",
    "\n",
    "그렇게 탄생한 회사가 동인도회사 입니다. \n",
    "\n",
    "<img src=\"https://upload.wikimedia.org/wikipedia/commons/thumb/4/4a/Vereenigde_Oostindische_Compagnie_spiegelretourschip_Amsterdam_replica.jpg/1280px-Vereenigde_Oostindische_Compagnie_spiegelretourschip_Amsterdam_replica.jpg\" alt=\"drawing\" height=\"300\" width=\"300\">\n",
    "\n",
    "(사진 : 동인도회사의 수송함) \n",
    "\n",
    "동남아에서 향신료를 수입하기에 엄청 많은금액이 필요했습니다. 수송비, 인력비, 동남아에서의 생활비까지.. \n",
    "\n",
    "이 금액을 어떻게 감당할까 고민하던 네덜란드는 \"투자를 받아 출항을 해야겠다고 결정하고 공정하게 이익을 배분하기 위해 주식을 발행합니다.\" \n",
    "\n",
    "이렇게 주식을 발행하니 이 주식을 구매하고 싶은 사람 또는 판매하고 싶은 사람이 생겼고 이 주식거래를 위해 최초의 주식시장이 생깁니다. \n",
    "\n",
    "그때부터 주식회사가 늘어나고 주식시장 또한 커져 네덜란드 뿐만아니라 전세계로 확산되었죠. \n"
   ]
  },
  {
   "cell_type": "markdown",
   "metadata": {},
   "source": [
    "많은 사람들은 습득한 정보, 지식을 이용하여 주시회사의 가치의 상승/하락을 예측합니다. 주식이 상승할것 이라고 예측되는 회사의 주식을 사고, 또 하락할것 이라고 예상되면 주식을 팔죠. \n",
    "\n",
    "<img src=\"https://s.marketwatch.com/public/resources/images/MW-GQ037_amd_09_ZH_20180913144816.jpg\" width = 500>\n",
    "\n",
    "\n",
    "주식을 저렴한 가격에서 사서 비싸게 판매를 하며 이익을 만듭니다. 하지만 이렇게 하기위해서는 많은 공부를 해야하고 정보또한 많이 알아야합니다. 공부, 정보를 얻기 위해 많은 시간을 투자한다고 하더라도 적당한 시기, 시간에 사고 팔아야하기 때문에 불확실 합니다.\n",
    "\n",
    "최근 인공지능이 주식시장에 적용되는 개발/연구가 활발합니다.\n",
    "\n",
    "인공지능은 인터넷에서 필요한 데이터들을 수집하고 딥러닝 모델을 이용하여 이 주식이 오를것인지 오르지 않을 것인지 판단합니다. \n",
    "\n",
    "사람이 모을수 있는 데이터보다 방대한, 다양한 데이터를 빠르게 모을수 있고 사람이 의사결정을 하지 않아도 스스로 주식을 사고, 파는 것이 가능하기에 여러 회사 또는 개인이 인공지능을 주식에 적용하는\n",
    "\n",
    "연구 개발을 하고 있습니다."
   ]
  },
  {
   "cell_type": "markdown",
   "metadata": {},
   "source": [
    "주식시장에서 의미있는 데이터는 보통 시계열 데이터 입니다. 시계열 데이터란 일정 기간에 대해 시간으로 표현되는 데이터입니다. \n",
    "주식에서는 10년 넘게 쌓여온 주식 종목의 OHLCV (open, high, low, close, volume)의 데이터가 될 수 있겠죠. "
   ]
  },
  {
   "cell_type": "markdown",
   "metadata": {},
   "source": [
    "(OHLCV란 ? : 위키피디아 :https://en.wikipedia.org/wiki/Open-high-low-close_chart) "
   ]
  },
  {
   "cell_type": "markdown",
   "metadata": {},
   "source": [
    "이 Data를 이용하여 여러가지 방법으로 주가 예측을 합니다. "
   ]
  },
  {
   "cell_type": "markdown",
   "metadata": {},
   "source": [
    "어떤 현상을 분석/예측하기 위해서는 많은 양의 데이터가 필요합니다. 주식 데이터는 비교적 쉽게 20년치 이상의 데이터를 인터넷에서 크롤링하는 방법이 가능합니다. \n",
    "이 데이터를 먼저 잘 이해하고 다룰수 있어야 그 다음 스텝으로 어떻게 분석/예측할 수 있는지 How를 고민해볼 수 있어요.\n",
    "\n",
    "<img src=\"https://www.dropbox.com/s/n5q7w0t1b3pp20r/Screenshot%202019-10-02%2009.54.34.png?raw=1\">\n",
    "          \n",
    "그래서 먼저 Time series를 데이터를 크롤링해서 분석/분류하는 방법을 잘 알아야합니다. Time series 데이터는 주식에서만 사용하는 것이 아니기 때문에 여러분야에 적용될 수 있기도 하죠. \n",
    "\n",
    "그래서 이 Time series를 잘 분류하기 위해 알면 좋은 자료를 소개할까 합니다. "
   ]
  },
  {
   "cell_type": "markdown",
   "metadata": {},
   "source": [
    "Review papers \n",
    "- Deep learning for time series classification: a review\n",
    "      https://link.springer.com/article/10.1007/s10618-019-00619-1\n",
    "- The great time series classification bake off: a review and experimental evaluation of recent algorithmic advances\n",
    "      https://link.springer.com/article/10.1007/s10618-016-0483-9\n",
    "- A review of unsupervised feature learning and deep learning for time-series modeling\n",
    "       https://www.sciencedirect.com/science/article/abs/pii/S0167865514000221\n"
   ]
  },
  {
   "cell_type": "markdown",
   "metadata": {},
   "source": [
    "이것을 보고 주식정보를 받을수 있는 웹사이트에서 주식 데이터를 크롤링하고 클러스터링을 하는 스몰프로젝트를 해보면 좋겠네요 :) \n",
    "\n"
   ]
  },
  {
   "cell_type": "markdown",
   "metadata": {},
   "source": [
    "<img src=\"https://www.dropbox.com/s/0sf4xtcgw5stlhb/Screenshot%202019-10-01%2019.08.28.png?raw=1\" >"
   ]
  }
 ],
 "metadata": {
  "kernelspec": {
   "display_name": "Python 3",
   "language": "python",
   "name": "python3"
  },
  "language_info": {
   "codemirror_mode": {
    "name": "ipython",
    "version": 3
   },
   "file_extension": ".py",
   "mimetype": "text/x-python",
   "name": "python",
   "nbconvert_exporter": "python",
   "pygments_lexer": "ipython3",
   "version": "3.7.3"
  },
  "toc": {
   "base_numbering": 1,
   "nav_menu": {},
   "number_sections": true,
   "sideBar": true,
   "skip_h1_title": false,
   "title_cell": "Table of Contents",
   "title_sidebar": "Contents",
   "toc_cell": false,
   "toc_position": {},
   "toc_section_display": true,
   "toc_window_display": false
  }
 },
 "nbformat": 4,
 "nbformat_minor": 2
}
