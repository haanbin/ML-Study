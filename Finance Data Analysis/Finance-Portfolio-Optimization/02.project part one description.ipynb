{
 "cells": [
  {
   "cell_type": "markdown",
   "metadata": {},
   "source": [
    "### 주가를 예측하기 위해 사용되는 데이터? "
   ]
  },
  {
   "cell_type": "markdown",
   "metadata": {},
   "source": [
    "주식시장에서 의미있는 데이터는 보통 시계열 데이터 입니다. 시계열 데이터란 일정 기간에 대해 시간으로 표현되는 데이터입니다. \n",
    "주식에서는 10년 넘게 쌓여온 주식 종목의 OHLCV (open, high, low, close, volume)의 데이터가 될 수 있겠죠. \n",
    "(OHLCV란 ? : 위키피디아 :https://en.wikipedia.org/wiki/Open-high-low-close_chart) \n",
    "\n",
    "이 Data를 이용하여 여러가지 방법으로 주가 예측을 합니다.\n",
    "\n",
    "어떤 현상을 분석/예측하기 위해서는 많은 양의 데이터가 필요합니다. 주식 데이터는 비교적 쉽게 20년치 이상의 데이터를 인터넷에서 크롤링하는 방법이 가능합니다. \n",
    "이 데이터를 먼저 잘 이해하고 다룰수 있어야 그 다음 스텝으로 어떻게 분석/예측할 수 있는지 How를 고민해볼 수 있어요.\n",
    "\n",
    "<img src=\"https://www.dropbox.com/s/n5q7w0t1b3pp20r/Screenshot%202019-10-02%2009.54.34.png?raw=1\" width=\"800\"/>\n",
    "          \n",
    "그래서 먼저 Time series를 데이터를 크롤링해서 분석/분류하는 방법을 잘 알아야합니다. Time series 데이터는 주식에서만 사용하는 것이 아니기 때문에 여러분야에 적용될 수 있기도 하죠. \n",
    "\n",
    "주가를 예측하는 인공지능을 만들기 위해 꼭 필요한 Timeseries 데이터를 사용해서 Clustering 하는 프로젝트를 해보겠습니다.\n",
    "\n"
   ]
  },
  {
   "cell_type": "markdown",
   "metadata": {},
   "source": [
    "# 프로젝트 1\n",
    "\n",
    "### Time Series 데이터를 이용한 Clustering\n",
    "\n",
    "<img src=\"https://www.dropbox.com/s/nwu6hgqznx3iqy3/Screenshot%202019-10-08%2015.23.54.png?raw=1\" width=\"1000\"/>\n",
    "\n",
    "### 목표 : 아래의 참고자료를 활용하여 Unsupervised clustering을 구현하여라 \n",
    "\n",
    "1. 일데이터 OHLCV(open,high,low,close,volume)를 사용\n",
    "2. 최근 10년 데이터를 사용 ( 시간/분 데이터 무관)\n",
    "3. 코스피200 구성 종목 200개 unsupervised clustering 하여라. \n",
    "\n",
    "Pass/Fail : Clustering 결과를 visualization하여 정원석에게 AI COLLEGE 슬랙 DM으로 제출하세요. "
   ]
  },
  {
   "cell_type": "markdown",
   "metadata": {},
   "source": [
    "## 참고자료  "
   ]
  },
  {
   "cell_type": "markdown",
   "metadata": {},
   "source": [
    "\n",
    "### Review papers\n",
    "\n",
    "Deep learning for time series classification: a review\n",
    "https://arxiv.org/abs/1809.04356\n",
    "\n",
    "The great time series classification bake off: a review and experimental evaluation of recent algorithmic advances\n",
    "https://link.springer.com/article/10.1007/s10618-016-0483-9\n",
    "\n",
    "\n",
    "A review of unsupervised feature learning and deep learning for time-series modeling\n",
    "https://www.sciencedirect.com/science/article/abs/pii/S0167865514000221\n",
    "\n",
    "\n",
    "### papers with codes\n",
    "\n",
    "https://paperswithcode.com/task/time-series-classification\n",
    "      \n",
    "      \n",
    "### Data source \n",
    "https://github.com/FinanceData/FinanceDataReader"
   ]
  },
  {
   "cell_type": "markdown",
   "metadata": {},
   "source": [
    "### Reference\n",
    "\n",
    "1. Zeroone.ai \n",
    "\n",
    "\n"
   ]
  }
 ],
 "metadata": {
  "kernelspec": {
   "display_name": "Python 3",
   "language": "python",
   "name": "python3"
  },
  "language_info": {
   "codemirror_mode": {
    "name": "ipython",
    "version": 3
   },
   "file_extension": ".py",
   "mimetype": "text/x-python",
   "name": "python",
   "nbconvert_exporter": "python",
   "pygments_lexer": "ipython3",
   "version": "3.7.3"
  },
  "latex_envs": {
   "LaTeX_envs_menu_present": true,
   "autoclose": false,
   "autocomplete": true,
   "bibliofile": "biblio.bib",
   "cite_by": "apalike",
   "current_citInitial": 1,
   "eqLabelWithNumbers": true,
   "eqNumInitial": 1,
   "hotkeys": {
    "equation": "Ctrl-E",
    "itemize": "Ctrl-I"
   },
   "labels_anchors": false,
   "latex_user_defs": false,
   "report_style_numbering": true,
   "user_envs_cfg": false
  },
  "toc": {
   "base_numbering": 1,
   "nav_menu": {},
   "number_sections": true,
   "sideBar": true,
   "skip_h1_title": false,
   "title_cell": "Table of Contents",
   "title_sidebar": "Contents",
   "toc_cell": false,
   "toc_position": {},
   "toc_section_display": true,
   "toc_window_display": false
  }
 },
 "nbformat": 4,
 "nbformat_minor": 2
}
